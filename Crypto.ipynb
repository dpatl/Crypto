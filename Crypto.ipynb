{
 "cells": [
  {
   "cell_type": "markdown",
   "metadata": {},
   "source": [
    "# Crypto"
   ]
  },
  {
   "cell_type": "markdown",
   "metadata": {},
   "source": [
    "## Modules\n"
   ]
  },
  {
   "cell_type": "code",
   "execution_count": 2,
   "metadata": {},
   "outputs": [],
   "source": [
    "import re\n",
    "import csv\n",
    "import got3 as got\n",
    "import numpy as np\n",
    "import csv\n",
    "import time\n",
    "import random\n",
    "import matplotlib.pylab as plt\n",
    "from pytrends.request import TrendReq\n",
    "import requests\n",
    "from textblob import TextBlob\n",
    "import pandas as pd\n",
    "import lxml\n",
    "import tweepy\n",
    "from datetime import date\n"
   ]
  },
  {
   "cell_type": "markdown",
   "metadata": {},
   "source": [
    "## Tidying"
   ]
  },
  {
   "cell_type": "markdown",
   "metadata": {},
   "source": [
    "Read the table from Coin Market Cap into a dataframe. Drop asterisks in headers and also drop features I won't be using. Bitcoin price is stored starting from April 28th, 2013 but to make things nicer I kept only observartions starting on Jan 01, 2014 until December 22, 2018 ("
   ]
  },
  {
   "cell_type": "code",
   "execution_count": 4,
   "metadata": {},
   "outputs": [],
   "source": [
    "# Obtainining the data from Coin Market Cap\n",
    "url = \"https://coinmarketcap.com/currencies/bitcoin/historical-data/?start=20130428&end=20181222\" \n",
    "df = pd.read_html(url)[0]\n",
    "# Do a bit of data tidying\n",
    "df = df.drop(columns=['Volume', 'Market Cap'])\n",
    "df = df.rename(index=str, columns={\"Open*\": \"Open\", \"Close**\": \"Close\"})\n",
    "df = df[~df.Date.str.contains(\"2013\")]\n",
    "df['Date'] = pd.to_datetime(df.Date)\n",
    "df.to_csv('Bitcoin.csv', index=False)"
   ]
  },
  {
   "cell_type": "code",
   "execution_count": 4,
   "metadata": {},
   "outputs": [],
   "source": [
    "access_token = '952398350946619392-pb8XT2uxcq9rva7JaOC8N1EcQ1b1bY6'\n",
    "access_token_secret = 'OmmiXrkce0QBseHrGYKgn1nT4X3bdcRRq4HnjKLKFjNZY'\n",
    "consumer_key = '5bR78CaG4gfDGSYqiNNAM9dqn' \n",
    "consumer_secret = 'dHxBj6zSui09lvscnA7VXpJa7BvJ7vv3ONEJhSUYDPvvNVGsuR'\n",
    "\n",
    "auth = tweepy.OAuthHandler(consumer_key, consumer_secret)\n",
    "auth.set_access_token(access_token, access_token_secret)\n",
    "api = tweepy.API(auth)\n",
    "tweetCriteria = got.manager.TweetCriteria().setQuerySearch('Bitcoin').setSince(\"2018-12-10\").setUntil(\"2018-12-15\")\n",
    "search_results = got.manager.TweetManager.getTweets(tweetCriteria)\n",
    "csvFile = open('Tweets.csv', 'a+')\n",
    "\n",
    "#Use csv writer\n",
    "csvWriter = csv.writer(csvFile)\n",
    "csvWriter.writerow([\"Date\", \"Tweet\", \"Favorites\", \"Retweets\",\"Sentiment\"])\n",
    "for tweet in search_results:\n",
    "    text = tweet.text\n",
    "    analysis = TextBlob(text)\n",
    "    sentiment = analysis.sentiment.polarity\n",
    "    csvWriter.writerow([tweet.date, tweet.text, tweet.favorites, tweet.retweets, sentiment])\n",
    "csvFile.close()"
   ]
  },
  {
   "cell_type": "code",
   "execution_count": null,
   "metadata": {},
   "outputs": [],
   "source": [
    "pytrends = TrendReq(hl='en-US', tz=360)\n",
    "kw_list = [\"Bitcoin\"] \n",
    "pytrends.build_payload(kw_list, cat=0, timeframe='today 5-y', geo='', gprop='')\n",
    "dfs = pytrends.get_historical_interest(kw_list, year_start=2018, month_start=1, day_start=1, hour_start=0, year_end=2018, month_end=12, day_end=20, cat=0, geo='', gprop='', sleep=0)\n",
    "dfs"
   ]
  }
 ],
 "metadata": {
  "kernelspec": {
   "display_name": "Python 3",
   "language": "python",
   "name": "python3"
  },
  "language_info": {
   "codemirror_mode": {
    "name": "ipython",
    "version": 3
   },
   "file_extension": ".py",
   "mimetype": "text/x-python",
   "name": "python",
   "nbconvert_exporter": "python",
   "pygments_lexer": "ipython3",
   "version": "3.6.7"
  }
 },
 "nbformat": 4,
 "nbformat_minor": 2
}
