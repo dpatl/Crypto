{
 "cells": [
  {
   "cell_type": "code",
   "execution_count": null,
   "metadata": {
    "scrolled": true
   },
   "outputs": [],
   "source": [
    "import numpy as np\n",
    "import csv\n",
    "import time\n",
    "import random\n",
    "import matplotlib.pylab as plt\n",
    "from statsmodels.tsa.api import ExponentialSmoothing, SimpleExpSmoothing, Holt\n",
    "import pandas as pd\n",
    "import statsmodels.api as sm\n",
    "from sklearn.metrics import mean_squared_error\n",
    "from math import sqrt\n"
   ]
  },
  {
   "cell_type": "code",
   "execution_count": null,
   "metadata": {
    "scrolled": true
   },
   "outputs": [],
   "source": [
    "df = pd.read_csv('Bitcoin.csv')\n",
    "df['Date'] = pd.to_datetime(df.Date)\n",
    "df = df.sort_values(by='Date')\n",
    "df.set_index('Date', inplace=True) #set Date as index\n",
    "train = df[0:1500]\n",
    "test = df[1500:]"
   ]
  },
  {
   "cell_type": "code",
   "execution_count": null,
   "metadata": {},
   "outputs": [],
   "source": [
    "ax = train.plot( y = 'Close', figsize=(15,8), title= 'Bitcoin Price', fontsize=14, label = '2014-2018', color = \"black\")\n",
    "test.plot(ax=ax, y = 'Close' ,figsize=(15,8), title= 'Bitcoin Price', fontsize=14, label = '2018-2019', color = \"orange\")\n",
    "plt.show()\n"
   ]
  },
  {
   "cell_type": "code",
   "execution_count": null,
   "metadata": {},
   "outputs": [],
   "source": [
    "dd = np.asarray(train.Close)\n",
    "y_hat = test.copy()\n",
    "y_hat['naive'] = dd[len(dd)-1]\n",
    "ax = train.plot(y = 'Close', figsize=(15,8), title= 'Bitcoin Price', fontsize=14, label = '2014-2018', color = \"black\")\n",
    "test.plot(ax=ax,  y = 'Close' ,figsize=(15,8), title= 'Bitcoin Price', fontsize=14, label = '2018-2019', color = \"orange\")\n",
    "y_hat.plot(ax=ax, y = 'naive', figsize=(15,8), title= 'Bitcoin Price', fontsize=14, label = 'Predicted', color = \"blue\")\n",
    "plt.show()\n",
    "rms = sqrt(mean_squared_error(test.Close, y_hat.naive))\n",
    "print(rms)\n"
   ]
  },
  {
   "cell_type": "code",
   "execution_count": null,
   "metadata": {},
   "outputs": [],
   "source": [
    "dd = np.asarray(train.Close)\n",
    "y_hat = test.copy()\n",
    "y_hat['avg_forecast'] = train['Close'].mean()\n",
    "ax = train.plot(y = 'Close', figsize=(15,8), title= 'Bitcoin Price', fontsize=14, label = '2014-2018', color = \"black\")\n",
    "test.plot(ax=ax,y = 'Close' ,figsize=(15,8), title= 'Bitcoin Price', fontsize=14, label = '2018-2019', color = \"orange\")\n",
    "y_hat.plot(ax=ax, y = 'avg_forecast', figsize=(15,8), title= 'Bitcoin Price', fontsize=14, label = 'Predicted', color = \"blue\")\n",
    "plt.show()\n",
    "rms = sqrt(mean_squared_error(test.Close, y_hat.avg_forecast))\n",
    "print(rms)\n"
   ]
  },
  {
   "cell_type": "code",
   "execution_count": null,
   "metadata": {},
   "outputs": [],
   "source": [
    "dd = np.asarray(train.Close)\n",
    "y_hat= test.copy()\n",
    "y_hat['moving_avg_forecast'] = train['Close'].rolling(7).mean().iloc[-1]\n",
    "ax = train.plot(y = 'Close', figsize=(15,8), title= 'Bitcoin Price', fontsize=14, label = '2014-2018', color = \"black\")\n",
    "test.plot(ax=ax, y = 'Close' ,figsize=(15,8), title= 'Bitcoin Price', fontsize=14, label = '2018-2019', color = \"orange\")\n",
    "y_hat.plot(ax=ax, y = 'moving_avg_forecast', figsize=(15,8), title= 'Bitcoin Price', fontsize=14, label = 'Predicted', color = \"blue\")\n",
    "plt.show()\n",
    "rms = sqrt(mean_squared_error(test.Close, y_hat.moving_avg_forecast))\n",
    "print(rms)"
   ]
  },
  {
   "cell_type": "code",
   "execution_count": null,
   "metadata": {},
   "outputs": [],
   "source": [
    "y_hat = test.copy()\n",
    "fit2 = SimpleExpSmoothing(np.asarray(train['Close'])).fit(smoothing_level=0.6,optimized=False)\n",
    "y_hat['SES'] = fit2.forecast(len(test))\n",
    "ax = train.plot(y = 'Close', figsize=(15,8), title= 'Bitcoin Price', fontsize=14, label = '2014-2018', color = \"black\")\n",
    "test.plot(ax=ax, y = 'Close' ,figsize=(15,8), title= 'Bitcoin Price', fontsize=14, label = '2018-2019', color = \"orange\")\n",
    "y_hat.plot(ax=ax,y = 'SES', figsize=(15,8), title= 'Bitcoin Price', fontsize=14, label = 'Predicted', color = \"blue\")\n",
    "plt.show()\n",
    "rms = sqrt(mean_squared_error(test.Close, y_hat.SES))\n",
    "print(rms)"
   ]
  },
  {
   "cell_type": "code",
   "execution_count": null,
   "metadata": {},
   "outputs": [],
   "source": [
    "y_hat = test.copy()\n",
    "fit1 = Holt(np.asarray(train['Close'])).fit(smoothing_level = 0.3,smoothing_slope = 0.61)\n",
    "y_hat['Holt_linear'] = fit1.forecast(len(test))\n",
    "ax = train.plot(y = 'Close', figsize=(15,8), title= 'Bitcoin Price', fontsize=14, label = '2014-2018', color = \"black\")\n",
    "test.plot(ax=ax, y = 'Close' ,figsize=(15,8), title= 'Bitcoin Price', fontsize=14, label = '2018-2019', color = \"orange\")\n",
    "y_hat.plot(ax=ax, y = 'Holt_linear', figsize=(15,8), title= 'Bitcoin Price', fontsize=14, label = 'Predicted', color = \"blue\")\n",
    "plt.show()\n",
    "rms = sqrt(mean_squared_error(test.Close, y_hat.Holt_linear))\n",
    "print(rms)\n"
   ]
  },
  {
   "cell_type": "code",
   "execution_count": null,
   "metadata": {},
   "outputs": [],
   "source": [
    "y_hat = test.copy()\n",
    "fit1 = ExponentialSmoothing(np.asarray(train['Close']) ,seasonal_periods=70 ,trend='add', seasonal='add',).fit()\n",
    "y_hat['Holt_Winter'] = fit1.forecast(len(test))\n",
    "ax = train.plot( y = 'Close', figsize=(15,8), title= 'Bitcoin Price', fontsize=14, label = '2014-2018', color = \"black\")\n",
    "test.plot(ax=ax,  y = 'Close' ,figsize=(15,8), title= 'Bitcoin Price', fontsize=14, label = '2018-2019', color = \"orange\")\n",
    "y_hat.plot(ax=ax,  y = 'Holt_Winter', figsize=(15,8), title= 'Bitcoin Price', fontsize=14, label = 'Predicted', color = \"blue\")\n",
    "plt.show()\n",
    "rms = sqrt(mean_squared_error(test.Close, y_hat.Holt_Winter))\n",
    "print(rms)"
   ]
  },
  {
   "cell_type": "code",
   "execution_count": null,
   "metadata": {},
   "outputs": [],
   "source": [
    "\n",
    "y_hat = test.copy()\n",
    "fit1 = sm.tsa.statespace.SARIMAX(train.Close, order = (2,1,4), seasonal_order= (0,1,0,60),  enforce_stationarity=False,\n",
    "                                enforce_invertibility=False).fit()\n",
    "y_hat['SARIMA'] = fit1.predict(start='2018-02-09', end='2018-12-22', dynamic=True)\n",
    "ax = train.plot( y = 'Close', figsize=(15,8), title= 'Bitcoin Price', fontsize=14, label = '2014-2018', color = \"black\")\n",
    "test.plot(ax=ax,y = 'Close' ,figsize=(15,8), title= 'Bitcoin Price', fontsize=14, label = '2018-2019', color = \"orange\")\n",
    "y_hat.plot(ax=ax, y = 'SARIMA', figsize=(15,8), title= 'Bitcoin Price', fontsize=14, label = 'Predicted', color = \"blue\")\n",
    "plt.show()\n",
    "rms = sqrt(mean_squared_error(test.Close, y_hat.SARIMA))\n",
    "print(rms)\n"
   ]
  },
  {
   "cell_type": "code",
   "execution_count": null,
   "metadata": {},
   "outputs": [],
   "source": [
    "fig = plt.figure(figsize=(12,8))\n",
    "ax1 = fig.add_subplot(211)\n",
    "fig = sm.graphics.tsa.plot_acf(train['Close'].diff().dropna(), lags=40, ax=ax1)"
   ]
  },
  {
   "cell_type": "code",
   "execution_count": null,
   "metadata": {},
   "outputs": [],
   "source": [
    "sm.tsa.seasonal_decompose(train.Close).plot()\n",
    "result = sm.tsa.stattools.adfuller(train.Close)\n",
    "plt.show()"
   ]
  }
 ],
 "metadata": {
  "kernelspec": {
   "display_name": "Python 3",
   "language": "python",
   "name": "python3"
  },
  "language_info": {
   "codemirror_mode": {
    "name": "ipython",
    "version": 3
   },
   "file_extension": ".py",
   "mimetype": "text/x-python",
   "name": "python",
   "nbconvert_exporter": "python",
   "pygments_lexer": "ipython3",
   "version": "3.6.7"
  }
 },
 "nbformat": 4,
 "nbformat_minor": 2
}
